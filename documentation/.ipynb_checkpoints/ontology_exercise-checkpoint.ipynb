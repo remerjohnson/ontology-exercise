{
 "cells": [
  {
   "cell_type": "markdown",
   "metadata": {},
   "source": [
    "# Ontology Exercise \n",
    "\n",
    "This is a notebook working through the ontology exercise I was assigned as part of a job interview. For more information, please see the README in this repository.  \n",
    "\n",
    "Our first task will be to import the libraries we want to work with. Beyond the standard `pandas` import, we will also be using the `rdfpandas` library so we can convert our input Turtle (.ttl) file to a DataFrame. Also, we were asked to use SPARQL to get IDs and labels, so we will need to use the `SPARQLWrapper` library. Ultimately, this exercise will produce a CSV output file."
   ]
  },
  {
   "cell_type": "code",
   "execution_count": 4,
   "metadata": {},
   "outputs": [],
   "source": [
    "import rdflib\n",
    "from rdfpandas.graph import to_dataframe\n",
    "import pandas as pd\n",
    "import SPARQLWrapper\n",
    "from SPARQLWrapper import SPARQLWrapper, JSON\n",
    "import os"
   ]
  },
  {
   "cell_type": "code",
   "execution_count": null,
   "metadata": {},
   "outputs": [],
   "source": []
  }
 ],
 "metadata": {
  "kernelspec": {
   "display_name": "Python [conda env:biontology]",
   "language": "python",
   "name": "conda-env-biontology-py"
  },
  "language_info": {
   "codemirror_mode": {
    "name": "ipython",
    "version": 3
   },
   "file_extension": ".py",
   "mimetype": "text/x-python",
   "name": "python",
   "nbconvert_exporter": "python",
   "pygments_lexer": "ipython3",
   "version": "3.8.10"
  }
 },
 "nbformat": 4,
 "nbformat_minor": 4
}
